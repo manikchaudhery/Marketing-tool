{
 "cells": [
  {
   "cell_type": "code",
   "execution_count": 1,
   "metadata": {},
   "outputs": [],
   "source": [
    "from pyspark.sql import SparkSession, Row, Column\n",
    "from pyspark.sql.functions import sqrt\n",
    "from collections import OrderedDict\n",
    "\n",
    "spark = SparkSession \\\n",
    "    .builder \\\n",
    "    .appName(\"Python Spark SQL basic example\") \\\n",
    "    .getOrCreate()"
   ]
  },
  {
   "cell_type": "code",
   "execution_count": 2,
   "metadata": {},
   "outputs": [
    {
     "data": {
      "text/plain": [
       "7"
      ]
     },
     "execution_count": 2,
     "metadata": {},
     "output_type": "execute_result"
    }
   ],
   "source": [
    "transactions = spark.read.option(\"header\", \"true\").option(\"inferschema\", \"true\").option(\"mode\", \"DROPMALFORMED\").csv(\"transaction_customer_join.csv\")\n",
    "transactions.rdd.getNumPartitions()"
   ]
  },
  {
   "cell_type": "code",
   "execution_count": 5,
   "metadata": {},
   "outputs": [],
   "source": [
    "latlon = transactions.select(\"latitude\", \"longitude\").filter(transactions.latitude.isNotNull() & transactions.longitude.isNotNull()).collect()"
   ]
  },
  {
   "cell_type": "code",
   "execution_count": 6,
   "metadata": {},
   "outputs": [
    {
     "name": "stdout",
     "output_type": "stream",
     "text": [
      "Maximum Latitude:  43.834977324\n",
      "Minimum Latitude:  43.5929446362\n",
      "Maximum Longitude:  -79.1434143924\n",
      "Minimum Longitude:  -79.617313153\n"
     ]
    }
   ],
   "source": [
    "maxlat = 0\n",
    "minlat = 0\n",
    "maxlon = 0\n",
    "minlon = 0\n",
    "\n",
    "first = True\n",
    "\n",
    "for (lat, lon) in latlon:\n",
    "    if first:\n",
    "        maxlat = lat\n",
    "        minlat = lat\n",
    "        maxlon = lon\n",
    "        minlon = lon\n",
    "        first = False\n",
    "    else:\n",
    "        maxlat = max(maxlat, lat)\n",
    "        minlat = min(minlat, lat)\n",
    "        maxlon = max(maxlon, lon)\n",
    "        minlon = min(minlon, lon)\n",
    "        \n",
    "print(f\"Maximum Latitude:  {maxlat}\")\n",
    "print(f\"Minimum Latitude:  {minlat}\")\n",
    "print(f\"Maximum Longitude:  {maxlon}\")\n",
    "print(f\"Minimum Longitude:  {minlon}\")"
   ]
  },
  {
   "cell_type": "code",
   "execution_count": 7,
   "metadata": {},
   "outputs": [],
   "source": [
    "import math\n",
    "EARTH_RADIUS = 6371 * 1000.0 # metres\n",
    "\n",
    "# lat long in radians\n",
    "\n",
    "def haversine(lat1, long1, lat2, long2):\n",
    "\n",
    "    lat1_rad, long1_rad = math.radians(lat1), math.radians(long1)\n",
    "    lat2_rad, long2_rad = math.radians(lat2), math.radians(long2)\n",
    "\n",
    "    delta_lat = lat2_rad - lat1_rad\n",
    "    delta_long = long2_rad - long1_rad\n",
    "\n",
    "    a = (math.sin(delta_lat / 2)**2) + (math.cos(lat1_rad) * math.cos(lat2_rad) * (math.sin(delta_long / 2)**2))\n",
    "    c = 2.0 * math.atan2(math.sqrt(a), math.sqrt(1 - a))\n",
    "\n",
    "    dist = EARTH_RADIUS * c\n",
    "\n",
    "    return dist"
   ]
  },
  {
   "cell_type": "code",
   "execution_count": 8,
   "metadata": {},
   "outputs": [
    {
     "data": {
      "text/plain": [
       "46636.696769443086"
      ]
     },
     "execution_count": 8,
     "metadata": {},
     "output_type": "execute_result"
    }
   ],
   "source": [
    "haversine(maxlat, maxlon, minlat, minlon)"
   ]
  },
  {
   "cell_type": "code",
   "execution_count": 10,
   "metadata": {},
   "outputs": [
    {
     "data": {
      "text/plain": [
       "1502.6341438453885"
      ]
     },
     "execution_count": 10,
     "metadata": {},
     "output_type": "execute_result"
    }
   ],
   "source": [
    "haversine(1.5/111, 0, 0, 0)"
   ]
  }
 ],
 "metadata": {
  "kernelspec": {
   "display_name": "Python 3",
   "language": "python",
   "name": "python3"
  },
  "language_info": {
   "codemirror_mode": {
    "name": "ipython",
    "version": 3
   },
   "file_extension": ".py",
   "mimetype": "text/x-python",
   "name": "python",
   "nbconvert_exporter": "python",
   "pygments_lexer": "ipython3",
   "version": "3.6.2"
  }
 },
 "nbformat": 4,
 "nbformat_minor": 2
}
