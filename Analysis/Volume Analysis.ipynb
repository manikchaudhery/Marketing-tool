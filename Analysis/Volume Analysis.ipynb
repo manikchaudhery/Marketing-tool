{
 "cells": [
  {
   "cell_type": "code",
   "execution_count": 1,
   "metadata": {},
   "outputs": [],
   "source": [
    "from pyspark.sql import SparkSession, Row, Column\n",
    "from pyspark.sql.functions import sqrt\n",
    "from collections import OrderedDict\n",
    "\n",
    "spark = SparkSession \\\n",
    "    .builder \\\n",
    "    .appName(\"Python Spark SQL basic example\") \\\n",
    "    .getOrCreate()"
   ]
  },
  {
   "cell_type": "code",
   "execution_count": 2,
   "metadata": {},
   "outputs": [
    {
     "data": {
      "text/plain": [
       "7"
      ]
     },
     "execution_count": 2,
     "metadata": {},
     "output_type": "execute_result"
    }
   ],
   "source": [
    "transactions = spark.read.option(\"header\", \"true\").option(\"inferschema\", \"true\").option(\"mode\", \"DROPMALFORMED\").csv(\"transaction_customer_join.csv\")\n",
    "transactions.rdd.getNumPartitions()"
   ]
  },
  {
   "cell_type": "code",
   "execution_count": 12,
   "metadata": {},
   "outputs": [
    {
     "data": {
      "text/plain": [
       "5548"
      ]
     },
     "execution_count": 12,
     "metadata": {},
     "output_type": "execute_result"
    }
   ],
   "source": [
    "transactions.filter(transactions.longitude.isNull()).count()"
   ]
  },
  {
   "cell_type": "code",
   "execution_count": 4,
   "metadata": {},
   "outputs": [],
   "source": [
    "import math\n",
    "EARTH_RADIUS = 6371 * 1000.0 # metres\n",
    "\n",
    "# lat long in radians\n",
    "\n",
    "def haversine(lat1, long1, lat2, long2):\n",
    "\n",
    "    lat1_rad, long1_rad = math.radians(lat1), math.radians(long1)\n",
    "    lat2_rad, long2_rad = math.radians(lat2), math.radians(long2)\n",
    "\n",
    "    delta_lat = lat2_rad - lat1_rad\n",
    "    delta_long = long2_rad - long1_rad\n",
    "\n",
    "    a = (math.sin(delta_lat / 2)**2) + (math.cos(lat1_rad) * math.cos(lat2_rad) * (math.sin(delta_long / 2)**2))\n",
    "    c = 2.0 * math.atan2(math.sqrt(a), math.sqrt(1 - a))\n",
    "\n",
    "    dist = EARTH_RADIUS * c\n",
    "\n",
    "    return dist"
   ]
  },
  {
   "cell_type": "code",
   "execution_count": 21,
   "metadata": {},
   "outputs": [],
   "source": [
    "import datetime\n",
    "# example targets for business\n",
    "target_age = 20\n",
    "target_income = 50000.0\n",
    "data_buckets = {}\n",
    "\n",
    "def jsonDate2date(dj):\n",
    "\n",
    "    date = datetime.datetime.strptime(dj, '%Y-%m-%dT%H:%M:%S.%fZ')\n",
    "    return date\n",
    "\n",
    "def floorDate(hour):\n",
    "    # need to make new time ranges?\n",
    "    if 6.0 <= hour <= 11.0:\n",
    "    \n",
    "        return (1, 0, 0) #'morning'\n",
    "    \n",
    "    elif 11.0 < hour <= 17.0:\n",
    "\n",
    "        return (0, 1, 0) #'noon'\n",
    "\n",
    "    elif 17.0 < hour < 22.0:\n",
    "\n",
    "        return (0, 0, 1) #'evening'\n",
    "    \n",
    "    else:\n",
    "\n",
    "        return (0, 0, 0)\n",
    "\n",
    "# function called for each row in transaction rows\n",
    "# customer row is correspondant to the specific transaction\n",
    "\n",
    "\n",
    "def getDataForFood(lat, lon, row):\n",
    "    \n",
    "    (latitude,longitude,customerId,merchantName,currencyAmount,category,date,\n",
    "     id,age,gender,totalIncome,relationshipStatus,pa_latitude,pa_longitude) = row\n",
    "\n",
    "#     date = jsonDate2date(str())\n",
    "    \n",
    "    #month = getattr(date, 'month')\n",
    "    \n",
    "    day = date.day\n",
    "    hour = date.hour\n",
    "    \n",
    "    if latitude is None or longitude is None:\n",
    "        return (day, 0, 0, 0)\n",
    "    \n",
    "    distance = haversine(lat, lon, latitude, longitude)\n",
    "    \n",
    "    if abs(distance) > 500:\n",
    "        return (day, 0, 0, 0)\n",
    "    \n",
    "    m, a, e = floorDate(hour)\n",
    "\n",
    "    return (day, m, a, e)\n",
    "        \n",
    "    \n",
    "    "
   ]
  },
  {
   "cell_type": "code",
   "execution_count": 22,
   "metadata": {},
   "outputs": [],
   "source": [
    "lat = 43.7167324775\n",
    "lon = -79.4562972547\n",
    "\n",
    "volume = transactions.rdd.map(lambda row: getDataForFood(lat, lon, row)).collect()"
   ]
  },
  {
   "cell_type": "code",
   "execution_count": 23,
   "metadata": {},
   "outputs": [
    {
     "name": "stdout",
     "output_type": "stream",
     "text": [
      "Morning:  205\n",
      "Afternoon:  117\n",
      "Evening:  31\n"
     ]
    }
   ],
   "source": [
    "morning = 0\n",
    "afternoon = 0\n",
    "evening = 0\n",
    "\n",
    "for (d, m, a, e) in volume:\n",
    "    morning += m\n",
    "    afternoon += a\n",
    "    evening += e\n",
    "    \n",
    "print(\"Morning:  {0}\".format(morning))\n",
    "print(\"Afternoon:  {0}\".format(afternoon))\n",
    "print(\"Evening:  {0}\".format(evening))"
   ]
  },
  {
   "cell_type": "code",
   "execution_count": null,
   "metadata": {},
   "outputs": [],
   "source": []
  }
 ],
 "metadata": {
  "kernelspec": {
   "display_name": "Python 3",
   "language": "python",
   "name": "python3"
  },
  "language_info": {
   "codemirror_mode": {
    "name": "ipython",
    "version": 3
   },
   "file_extension": ".py",
   "mimetype": "text/x-python",
   "name": "python",
   "nbconvert_exporter": "python",
   "pygments_lexer": "ipython3",
   "version": "3.6.2"
  }
 },
 "nbformat": 4,
 "nbformat_minor": 2
}
