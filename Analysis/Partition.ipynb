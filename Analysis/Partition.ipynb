{
 "cells": [
  {
   "cell_type": "code",
   "execution_count": 1,
   "metadata": {},
   "outputs": [],
   "source": [
    "from pyspark.sql import SparkSession, Row\n",
    "from pyspark.sql.functions import sqrt\n",
    "from collections import OrderedDict\n",
    "\n",
    "spark = SparkSession \\\n",
    "    .builder \\\n",
    "    .appName(\"Python Spark SQL basic example\") \\\n",
    "    .getOrCreate()"
   ]
  },
  {
   "cell_type": "code",
   "execution_count": 2,
   "metadata": {},
   "outputs": [
    {
     "data": {
      "text/plain": [
       "7"
      ]
     },
     "execution_count": 2,
     "metadata": {},
     "output_type": "execute_result"
    }
   ],
   "source": [
    "transactions = spark.read.option(\"header\", \"true\").option(\"inferschema\", \"true\").option(\"mode\", \"DROPMALFORMED\").csv(\"transaction_customer_join.csv\")\n",
    "transactions.rdd.getNumPartitions()"
   ]
  },
  {
   "cell_type": "code",
   "execution_count": 3,
   "metadata": {},
   "outputs": [],
   "source": [
    "values = transactions.select(\"latitude\", \"longitude\", \"currencyAmount\", \"date\", \"age\", \"gender\", \"totalIncome\").collect()"
   ]
  },
  {
   "cell_type": "code",
   "execution_count": 6,
   "metadata": {},
   "outputs": [
    {
     "name": "stdout",
     "output_type": "stream",
     "text": [
      "Wall time: 2.08 s\n"
     ]
    }
   ],
   "source": [
    "%%time\n",
    "\n",
    "weekdays = [\"Monday\", \"Tuesday\", \"Wednesday\", \"Thursday\", \"Friday\", \"Saturday\", \"Sunday\"]\n",
    "\n",
    "areas = []\n",
    "\n",
    "lat_half_interval = 1.5/111\n",
    "lon_half_interval = 1.5/111\n",
    "\n",
    "def floorHour(hour):\n",
    "    # need to make new time ranges?\n",
    "    if 6.0 <= hour <= 11.0:\n",
    "        return 'morning'\n",
    "    \n",
    "    elif 11.0 < hour <= 17.0:\n",
    "        return 'noon'\n",
    "\n",
    "    elif 17.0 < hour < 22.0:\n",
    "        return 'evening'\n",
    "    \n",
    "    else:\n",
    "        return 'other'\n",
    "    \n",
    "\n",
    "for (latitude, longitude, currencyAmount, date, age, gender, income) in values:\n",
    "    \n",
    "    if latitude is not None and longitude is not None:\n",
    "    \n",
    "        i = 0\n",
    "        \n",
    "        areaExists = False\n",
    "\n",
    "        weekday = weekdays[date.weekday()]\n",
    "        \n",
    "        for area in areas:\n",
    "            if area[\"min_lat\"] < latitude < area[\"max_lat\"] and area[\"min_lon\"] < longitude < area[\"max_lon\"]:\n",
    "                areaExists = True\n",
    "\n",
    "                area[\"totalIncome\"] += income\n",
    "                area[weekday][\"numTransactions\"] += 1\n",
    "                area[weekday][\"totalSpent\"] += currencyAmount\n",
    "                area[weekday][\"totalAge\"] += age\n",
    "                area[weekday][gender] += 1\n",
    "                area[weekday][floorHour(date.hour)] += 1\n",
    "                \n",
    "                \n",
    "        if not areaExists:\n",
    "            newArea = {\n",
    "                \"min_lat\": latitude-lat_half_interval, \"max_lat\": latitude+lat_half_interval,\n",
    "                \"min_lon\": longitude-lon_half_interval, \"max_lon\": longitude+lon_half_interval,\n",
    "                \"totalIncome\": income\n",
    "            }\n",
    "            for day in weekdays:\n",
    "                newArea[day] = {\n",
    "                   \"morning\":0, \"noon\":0, \"evening\":0, \"other\":0,\n",
    "                   \"Male\":0, \"Female\":0, \"Other\":0,\n",
    "                   \"totalAge\":0,\n",
    "                   \"numTransactions\":0,\n",
    "                   \"totalSpent\":0\n",
    "                }\n",
    "\n",
    "            newArea[weekday][\"numTransactions\"] += 1\n",
    "            newArea[weekday][\"totalSpent\"] += currencyAmount\n",
    "            newArea[weekday][\"totalAge\"] += age\n",
    "            newArea[weekday][gender] += 1\n",
    "            newArea[weekday][floorHour(date.hour)] += 1\n",
    "                \n",
    "            areas.append(newArea)\n",
    "                \n",
    "len(areas)"
   ]
  },
  {
   "cell_type": "code",
   "execution_count": 7,
   "metadata": {},
   "outputs": [
    {
     "name": "stdout",
     "output_type": "stream",
     "text": [
      "Wall time: 25.9 ms\n"
     ]
    }
   ],
   "source": [
    "%%time\n",
    "\n",
    "with open(\"Aggregated.json\", \"w\") as file:\n",
    "    file.write(str(areas))"
   ]
  },
  {
   "cell_type": "code",
   "execution_count": null,
   "metadata": {},
   "outputs": [],
   "source": []
  }
 ],
 "metadata": {
  "kernelspec": {
   "display_name": "Python 3",
   "language": "python",
   "name": "python3"
  },
  "language_info": {
   "codemirror_mode": {
    "name": "ipython",
    "version": 3
   },
   "file_extension": ".py",
   "mimetype": "text/x-python",
   "name": "python",
   "nbconvert_exporter": "python",
   "pygments_lexer": "ipython3",
   "version": "3.6.2"
  }
 },
 "nbformat": 4,
 "nbformat_minor": 2
}
